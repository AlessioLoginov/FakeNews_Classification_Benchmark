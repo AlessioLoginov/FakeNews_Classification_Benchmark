{
  "nbformat": 4,
  "nbformat_minor": 0,
  "metadata": {
    "colab": {
      "provenance": []
    },
    "kernelspec": {
      "name": "python3",
      "display_name": "Python 3"
    },
    "language_info": {
      "name": "python"
    }
  },
  "cells": [
    {
      "cell_type": "markdown",
      "source": [
        "# Эксперимент по классификации фейковых новостей с использованием различных моделей и методов. Цель — достичь F1-метрики выше 0.91 (sklearn) и выше 0.52 (PyTorch). В работе применяются как классические ML-алгоритмы, так и нейросети, включая подготовку и исследование данных (EDA)."
      ],
      "metadata": {
        "id": "ASMGUn8wf5-i"
      }
    },
    {
      "cell_type": "code",
      "source": [
        "# 📁 Загрузка файла через интерфейс\n",
        "from google.colab import files\n",
        "uploaded = files.upload()\n",
        "\n",
        "# 📦 Импорт библиотек\n",
        "import pandas as pd\n",
        "\n",
        "# 📄 Преобразуем загруженный файл в DataFrame\n",
        "import io\n",
        "df = pd.read_csv(io.BytesIO(uploaded['Constraint_Train.csv']))\n",
        "\n",
        "# 🔍 Показываем первые строки\n",
        "print(\"🔎 Первые строки:\")\n",
        "display(df.head())\n",
        "\n",
        "# ℹ️ Информация о структуре данных\n",
        "print(\"\\n📊 Информация о датасете:\")\n",
        "df.info()\n",
        "\n",
        "# 📈 Распределение классов\n",
        "print(\"\\n📉 Распределение меток:\")\n",
        "print(df['label'].value_counts())\n"
      ],
      "metadata": {
        "colab": {
          "base_uri": "https://localhost:8080/",
          "height": 602
        },
        "id": "wjWFwo7WgTZ7",
        "outputId": "cc2ce33e-fcbc-4809-8f81-632dfd0e00de"
      },
      "execution_count": 2,
      "outputs": [
        {
          "output_type": "display_data",
          "data": {
            "text/plain": [
              "<IPython.core.display.HTML object>"
            ],
            "text/html": [
              "\n",
              "     <input type=\"file\" id=\"files-89d64d76-c099-4492-ac30-ad5ec21be41d\" name=\"files[]\" multiple disabled\n",
              "        style=\"border:none\" />\n",
              "     <output id=\"result-89d64d76-c099-4492-ac30-ad5ec21be41d\">\n",
              "      Upload widget is only available when the cell has been executed in the\n",
              "      current browser session. Please rerun this cell to enable.\n",
              "      </output>\n",
              "      <script>// Copyright 2017 Google LLC\n",
              "//\n",
              "// Licensed under the Apache License, Version 2.0 (the \"License\");\n",
              "// you may not use this file except in compliance with the License.\n",
              "// You may obtain a copy of the License at\n",
              "//\n",
              "//      http://www.apache.org/licenses/LICENSE-2.0\n",
              "//\n",
              "// Unless required by applicable law or agreed to in writing, software\n",
              "// distributed under the License is distributed on an \"AS IS\" BASIS,\n",
              "// WITHOUT WARRANTIES OR CONDITIONS OF ANY KIND, either express or implied.\n",
              "// See the License for the specific language governing permissions and\n",
              "// limitations under the License.\n",
              "\n",
              "/**\n",
              " * @fileoverview Helpers for google.colab Python module.\n",
              " */\n",
              "(function(scope) {\n",
              "function span(text, styleAttributes = {}) {\n",
              "  const element = document.createElement('span');\n",
              "  element.textContent = text;\n",
              "  for (const key of Object.keys(styleAttributes)) {\n",
              "    element.style[key] = styleAttributes[key];\n",
              "  }\n",
              "  return element;\n",
              "}\n",
              "\n",
              "// Max number of bytes which will be uploaded at a time.\n",
              "const MAX_PAYLOAD_SIZE = 100 * 1024;\n",
              "\n",
              "function _uploadFiles(inputId, outputId) {\n",
              "  const steps = uploadFilesStep(inputId, outputId);\n",
              "  const outputElement = document.getElementById(outputId);\n",
              "  // Cache steps on the outputElement to make it available for the next call\n",
              "  // to uploadFilesContinue from Python.\n",
              "  outputElement.steps = steps;\n",
              "\n",
              "  return _uploadFilesContinue(outputId);\n",
              "}\n",
              "\n",
              "// This is roughly an async generator (not supported in the browser yet),\n",
              "// where there are multiple asynchronous steps and the Python side is going\n",
              "// to poll for completion of each step.\n",
              "// This uses a Promise to block the python side on completion of each step,\n",
              "// then passes the result of the previous step as the input to the next step.\n",
              "function _uploadFilesContinue(outputId) {\n",
              "  const outputElement = document.getElementById(outputId);\n",
              "  const steps = outputElement.steps;\n",
              "\n",
              "  const next = steps.next(outputElement.lastPromiseValue);\n",
              "  return Promise.resolve(next.value.promise).then((value) => {\n",
              "    // Cache the last promise value to make it available to the next\n",
              "    // step of the generator.\n",
              "    outputElement.lastPromiseValue = value;\n",
              "    return next.value.response;\n",
              "  });\n",
              "}\n",
              "\n",
              "/**\n",
              " * Generator function which is called between each async step of the upload\n",
              " * process.\n",
              " * @param {string} inputId Element ID of the input file picker element.\n",
              " * @param {string} outputId Element ID of the output display.\n",
              " * @return {!Iterable<!Object>} Iterable of next steps.\n",
              " */\n",
              "function* uploadFilesStep(inputId, outputId) {\n",
              "  const inputElement = document.getElementById(inputId);\n",
              "  inputElement.disabled = false;\n",
              "\n",
              "  const outputElement = document.getElementById(outputId);\n",
              "  outputElement.innerHTML = '';\n",
              "\n",
              "  const pickedPromise = new Promise((resolve) => {\n",
              "    inputElement.addEventListener('change', (e) => {\n",
              "      resolve(e.target.files);\n",
              "    });\n",
              "  });\n",
              "\n",
              "  const cancel = document.createElement('button');\n",
              "  inputElement.parentElement.appendChild(cancel);\n",
              "  cancel.textContent = 'Cancel upload';\n",
              "  const cancelPromise = new Promise((resolve) => {\n",
              "    cancel.onclick = () => {\n",
              "      resolve(null);\n",
              "    };\n",
              "  });\n",
              "\n",
              "  // Wait for the user to pick the files.\n",
              "  const files = yield {\n",
              "    promise: Promise.race([pickedPromise, cancelPromise]),\n",
              "    response: {\n",
              "      action: 'starting',\n",
              "    }\n",
              "  };\n",
              "\n",
              "  cancel.remove();\n",
              "\n",
              "  // Disable the input element since further picks are not allowed.\n",
              "  inputElement.disabled = true;\n",
              "\n",
              "  if (!files) {\n",
              "    return {\n",
              "      response: {\n",
              "        action: 'complete',\n",
              "      }\n",
              "    };\n",
              "  }\n",
              "\n",
              "  for (const file of files) {\n",
              "    const li = document.createElement('li');\n",
              "    li.append(span(file.name, {fontWeight: 'bold'}));\n",
              "    li.append(span(\n",
              "        `(${file.type || 'n/a'}) - ${file.size} bytes, ` +\n",
              "        `last modified: ${\n",
              "            file.lastModifiedDate ? file.lastModifiedDate.toLocaleDateString() :\n",
              "                                    'n/a'} - `));\n",
              "    const percent = span('0% done');\n",
              "    li.appendChild(percent);\n",
              "\n",
              "    outputElement.appendChild(li);\n",
              "\n",
              "    const fileDataPromise = new Promise((resolve) => {\n",
              "      const reader = new FileReader();\n",
              "      reader.onload = (e) => {\n",
              "        resolve(e.target.result);\n",
              "      };\n",
              "      reader.readAsArrayBuffer(file);\n",
              "    });\n",
              "    // Wait for the data to be ready.\n",
              "    let fileData = yield {\n",
              "      promise: fileDataPromise,\n",
              "      response: {\n",
              "        action: 'continue',\n",
              "      }\n",
              "    };\n",
              "\n",
              "    // Use a chunked sending to avoid message size limits. See b/62115660.\n",
              "    let position = 0;\n",
              "    do {\n",
              "      const length = Math.min(fileData.byteLength - position, MAX_PAYLOAD_SIZE);\n",
              "      const chunk = new Uint8Array(fileData, position, length);\n",
              "      position += length;\n",
              "\n",
              "      const base64 = btoa(String.fromCharCode.apply(null, chunk));\n",
              "      yield {\n",
              "        response: {\n",
              "          action: 'append',\n",
              "          file: file.name,\n",
              "          data: base64,\n",
              "        },\n",
              "      };\n",
              "\n",
              "      let percentDone = fileData.byteLength === 0 ?\n",
              "          100 :\n",
              "          Math.round((position / fileData.byteLength) * 100);\n",
              "      percent.textContent = `${percentDone}% done`;\n",
              "\n",
              "    } while (position < fileData.byteLength);\n",
              "  }\n",
              "\n",
              "  // All done.\n",
              "  yield {\n",
              "    response: {\n",
              "      action: 'complete',\n",
              "    }\n",
              "  };\n",
              "}\n",
              "\n",
              "scope.google = scope.google || {};\n",
              "scope.google.colab = scope.google.colab || {};\n",
              "scope.google.colab._files = {\n",
              "  _uploadFiles,\n",
              "  _uploadFilesContinue,\n",
              "};\n",
              "})(self);\n",
              "</script> "
            ]
          },
          "metadata": {}
        },
        {
          "output_type": "stream",
          "name": "stdout",
          "text": [
            "Saving Constraint_Train.csv to Constraint_Train.csv\n",
            "🔎 Первые строки:\n"
          ]
        },
        {
          "output_type": "display_data",
          "data": {
            "text/plain": [
              "   id                                              tweet label\n",
              "0   1  The CDC currently reports 99031 deaths. In gen...  real\n",
              "1   2  States reported 1121 deaths a small rise from ...  real\n",
              "2   3  Politically Correct Woman (Almost) Uses Pandem...  fake\n",
              "3   4  #IndiaFightsCorona: We have 1524 #COVID testin...  real\n",
              "4   5  Populous states can generate large case counts...  real"
            ],
            "text/html": [
              "\n",
              "  <div id=\"df-24df2ac5-bad1-45dc-b5ed-314f99e1feeb\" class=\"colab-df-container\">\n",
              "    <div>\n",
              "<style scoped>\n",
              "    .dataframe tbody tr th:only-of-type {\n",
              "        vertical-align: middle;\n",
              "    }\n",
              "\n",
              "    .dataframe tbody tr th {\n",
              "        vertical-align: top;\n",
              "    }\n",
              "\n",
              "    .dataframe thead th {\n",
              "        text-align: right;\n",
              "    }\n",
              "</style>\n",
              "<table border=\"1\" class=\"dataframe\">\n",
              "  <thead>\n",
              "    <tr style=\"text-align: right;\">\n",
              "      <th></th>\n",
              "      <th>id</th>\n",
              "      <th>tweet</th>\n",
              "      <th>label</th>\n",
              "    </tr>\n",
              "  </thead>\n",
              "  <tbody>\n",
              "    <tr>\n",
              "      <th>0</th>\n",
              "      <td>1</td>\n",
              "      <td>The CDC currently reports 99031 deaths. In gen...</td>\n",
              "      <td>real</td>\n",
              "    </tr>\n",
              "    <tr>\n",
              "      <th>1</th>\n",
              "      <td>2</td>\n",
              "      <td>States reported 1121 deaths a small rise from ...</td>\n",
              "      <td>real</td>\n",
              "    </tr>\n",
              "    <tr>\n",
              "      <th>2</th>\n",
              "      <td>3</td>\n",
              "      <td>Politically Correct Woman (Almost) Uses Pandem...</td>\n",
              "      <td>fake</td>\n",
              "    </tr>\n",
              "    <tr>\n",
              "      <th>3</th>\n",
              "      <td>4</td>\n",
              "      <td>#IndiaFightsCorona: We have 1524 #COVID testin...</td>\n",
              "      <td>real</td>\n",
              "    </tr>\n",
              "    <tr>\n",
              "      <th>4</th>\n",
              "      <td>5</td>\n",
              "      <td>Populous states can generate large case counts...</td>\n",
              "      <td>real</td>\n",
              "    </tr>\n",
              "  </tbody>\n",
              "</table>\n",
              "</div>\n",
              "    <div class=\"colab-df-buttons\">\n",
              "\n",
              "  <div class=\"colab-df-container\">\n",
              "    <button class=\"colab-df-convert\" onclick=\"convertToInteractive('df-24df2ac5-bad1-45dc-b5ed-314f99e1feeb')\"\n",
              "            title=\"Convert this dataframe to an interactive table.\"\n",
              "            style=\"display:none;\">\n",
              "\n",
              "  <svg xmlns=\"http://www.w3.org/2000/svg\" height=\"24px\" viewBox=\"0 -960 960 960\">\n",
              "    <path d=\"M120-120v-720h720v720H120Zm60-500h600v-160H180v160Zm220 220h160v-160H400v160Zm0 220h160v-160H400v160ZM180-400h160v-160H180v160Zm440 0h160v-160H620v160ZM180-180h160v-160H180v160Zm440 0h160v-160H620v160Z\"/>\n",
              "  </svg>\n",
              "    </button>\n",
              "\n",
              "  <style>\n",
              "    .colab-df-container {\n",
              "      display:flex;\n",
              "      gap: 12px;\n",
              "    }\n",
              "\n",
              "    .colab-df-convert {\n",
              "      background-color: #E8F0FE;\n",
              "      border: none;\n",
              "      border-radius: 50%;\n",
              "      cursor: pointer;\n",
              "      display: none;\n",
              "      fill: #1967D2;\n",
              "      height: 32px;\n",
              "      padding: 0 0 0 0;\n",
              "      width: 32px;\n",
              "    }\n",
              "\n",
              "    .colab-df-convert:hover {\n",
              "      background-color: #E2EBFA;\n",
              "      box-shadow: 0px 1px 2px rgba(60, 64, 67, 0.3), 0px 1px 3px 1px rgba(60, 64, 67, 0.15);\n",
              "      fill: #174EA6;\n",
              "    }\n",
              "\n",
              "    .colab-df-buttons div {\n",
              "      margin-bottom: 4px;\n",
              "    }\n",
              "\n",
              "    [theme=dark] .colab-df-convert {\n",
              "      background-color: #3B4455;\n",
              "      fill: #D2E3FC;\n",
              "    }\n",
              "\n",
              "    [theme=dark] .colab-df-convert:hover {\n",
              "      background-color: #434B5C;\n",
              "      box-shadow: 0px 1px 3px 1px rgba(0, 0, 0, 0.15);\n",
              "      filter: drop-shadow(0px 1px 2px rgba(0, 0, 0, 0.3));\n",
              "      fill: #FFFFFF;\n",
              "    }\n",
              "  </style>\n",
              "\n",
              "    <script>\n",
              "      const buttonEl =\n",
              "        document.querySelector('#df-24df2ac5-bad1-45dc-b5ed-314f99e1feeb button.colab-df-convert');\n",
              "      buttonEl.style.display =\n",
              "        google.colab.kernel.accessAllowed ? 'block' : 'none';\n",
              "\n",
              "      async function convertToInteractive(key) {\n",
              "        const element = document.querySelector('#df-24df2ac5-bad1-45dc-b5ed-314f99e1feeb');\n",
              "        const dataTable =\n",
              "          await google.colab.kernel.invokeFunction('convertToInteractive',\n",
              "                                                    [key], {});\n",
              "        if (!dataTable) return;\n",
              "\n",
              "        const docLinkHtml = 'Like what you see? Visit the ' +\n",
              "          '<a target=\"_blank\" href=https://colab.research.google.com/notebooks/data_table.ipynb>data table notebook</a>'\n",
              "          + ' to learn more about interactive tables.';\n",
              "        element.innerHTML = '';\n",
              "        dataTable['output_type'] = 'display_data';\n",
              "        await google.colab.output.renderOutput(dataTable, element);\n",
              "        const docLink = document.createElement('div');\n",
              "        docLink.innerHTML = docLinkHtml;\n",
              "        element.appendChild(docLink);\n",
              "      }\n",
              "    </script>\n",
              "  </div>\n",
              "\n",
              "\n",
              "    <div id=\"df-6485bcaa-1e98-41fe-83ab-8e2f9e704a6f\">\n",
              "      <button class=\"colab-df-quickchart\" onclick=\"quickchart('df-6485bcaa-1e98-41fe-83ab-8e2f9e704a6f')\"\n",
              "                title=\"Suggest charts\"\n",
              "                style=\"display:none;\">\n",
              "\n",
              "<svg xmlns=\"http://www.w3.org/2000/svg\" height=\"24px\"viewBox=\"0 0 24 24\"\n",
              "     width=\"24px\">\n",
              "    <g>\n",
              "        <path d=\"M19 3H5c-1.1 0-2 .9-2 2v14c0 1.1.9 2 2 2h14c1.1 0 2-.9 2-2V5c0-1.1-.9-2-2-2zM9 17H7v-7h2v7zm4 0h-2V7h2v10zm4 0h-2v-4h2v4z\"/>\n",
              "    </g>\n",
              "</svg>\n",
              "      </button>\n",
              "\n",
              "<style>\n",
              "  .colab-df-quickchart {\n",
              "      --bg-color: #E8F0FE;\n",
              "      --fill-color: #1967D2;\n",
              "      --hover-bg-color: #E2EBFA;\n",
              "      --hover-fill-color: #174EA6;\n",
              "      --disabled-fill-color: #AAA;\n",
              "      --disabled-bg-color: #DDD;\n",
              "  }\n",
              "\n",
              "  [theme=dark] .colab-df-quickchart {\n",
              "      --bg-color: #3B4455;\n",
              "      --fill-color: #D2E3FC;\n",
              "      --hover-bg-color: #434B5C;\n",
              "      --hover-fill-color: #FFFFFF;\n",
              "      --disabled-bg-color: #3B4455;\n",
              "      --disabled-fill-color: #666;\n",
              "  }\n",
              "\n",
              "  .colab-df-quickchart {\n",
              "    background-color: var(--bg-color);\n",
              "    border: none;\n",
              "    border-radius: 50%;\n",
              "    cursor: pointer;\n",
              "    display: none;\n",
              "    fill: var(--fill-color);\n",
              "    height: 32px;\n",
              "    padding: 0;\n",
              "    width: 32px;\n",
              "  }\n",
              "\n",
              "  .colab-df-quickchart:hover {\n",
              "    background-color: var(--hover-bg-color);\n",
              "    box-shadow: 0 1px 2px rgba(60, 64, 67, 0.3), 0 1px 3px 1px rgba(60, 64, 67, 0.15);\n",
              "    fill: var(--button-hover-fill-color);\n",
              "  }\n",
              "\n",
              "  .colab-df-quickchart-complete:disabled,\n",
              "  .colab-df-quickchart-complete:disabled:hover {\n",
              "    background-color: var(--disabled-bg-color);\n",
              "    fill: var(--disabled-fill-color);\n",
              "    box-shadow: none;\n",
              "  }\n",
              "\n",
              "  .colab-df-spinner {\n",
              "    border: 2px solid var(--fill-color);\n",
              "    border-color: transparent;\n",
              "    border-bottom-color: var(--fill-color);\n",
              "    animation:\n",
              "      spin 1s steps(1) infinite;\n",
              "  }\n",
              "\n",
              "  @keyframes spin {\n",
              "    0% {\n",
              "      border-color: transparent;\n",
              "      border-bottom-color: var(--fill-color);\n",
              "      border-left-color: var(--fill-color);\n",
              "    }\n",
              "    20% {\n",
              "      border-color: transparent;\n",
              "      border-left-color: var(--fill-color);\n",
              "      border-top-color: var(--fill-color);\n",
              "    }\n",
              "    30% {\n",
              "      border-color: transparent;\n",
              "      border-left-color: var(--fill-color);\n",
              "      border-top-color: var(--fill-color);\n",
              "      border-right-color: var(--fill-color);\n",
              "    }\n",
              "    40% {\n",
              "      border-color: transparent;\n",
              "      border-right-color: var(--fill-color);\n",
              "      border-top-color: var(--fill-color);\n",
              "    }\n",
              "    60% {\n",
              "      border-color: transparent;\n",
              "      border-right-color: var(--fill-color);\n",
              "    }\n",
              "    80% {\n",
              "      border-color: transparent;\n",
              "      border-right-color: var(--fill-color);\n",
              "      border-bottom-color: var(--fill-color);\n",
              "    }\n",
              "    90% {\n",
              "      border-color: transparent;\n",
              "      border-bottom-color: var(--fill-color);\n",
              "    }\n",
              "  }\n",
              "</style>\n",
              "\n",
              "      <script>\n",
              "        async function quickchart(key) {\n",
              "          const quickchartButtonEl =\n",
              "            document.querySelector('#' + key + ' button');\n",
              "          quickchartButtonEl.disabled = true;  // To prevent multiple clicks.\n",
              "          quickchartButtonEl.classList.add('colab-df-spinner');\n",
              "          try {\n",
              "            const charts = await google.colab.kernel.invokeFunction(\n",
              "                'suggestCharts', [key], {});\n",
              "          } catch (error) {\n",
              "            console.error('Error during call to suggestCharts:', error);\n",
              "          }\n",
              "          quickchartButtonEl.classList.remove('colab-df-spinner');\n",
              "          quickchartButtonEl.classList.add('colab-df-quickchart-complete');\n",
              "        }\n",
              "        (() => {\n",
              "          let quickchartButtonEl =\n",
              "            document.querySelector('#df-6485bcaa-1e98-41fe-83ab-8e2f9e704a6f button');\n",
              "          quickchartButtonEl.style.display =\n",
              "            google.colab.kernel.accessAllowed ? 'block' : 'none';\n",
              "        })();\n",
              "      </script>\n",
              "    </div>\n",
              "    </div>\n",
              "  </div>\n"
            ],
            "application/vnd.google.colaboratory.intrinsic+json": {
              "type": "dataframe",
              "summary": "{\n  \"name\": \"print(df['label']\",\n  \"rows\": 5,\n  \"fields\": [\n    {\n      \"column\": \"id\",\n      \"properties\": {\n        \"dtype\": \"number\",\n        \"std\": 1,\n        \"min\": 1,\n        \"max\": 5,\n        \"num_unique_values\": 5,\n        \"samples\": [\n          2,\n          5,\n          3\n        ],\n        \"semantic_type\": \"\",\n        \"description\": \"\"\n      }\n    },\n    {\n      \"column\": \"tweet\",\n      \"properties\": {\n        \"dtype\": \"string\",\n        \"num_unique_values\": 5,\n        \"samples\": [\n          \"States reported 1121 deaths a small rise from last Tuesday. Southern states reported 640 of those deaths. https://t.co/YASGRTT4ux\",\n          \"Populous states can generate large case counts but if you look at the new cases per million today 9 smaller states are showing more cases per million than California or Texas: AL AR ID KS KY LA MS NV and SC. https://t.co/1pYW6cWRaS\",\n          \"Politically Correct Woman (Almost) Uses Pandemic as Excuse Not to Reuse Plastic Bag https://t.co/thF8GuNFPe #coronavirus #nashville\"\n        ],\n        \"semantic_type\": \"\",\n        \"description\": \"\"\n      }\n    },\n    {\n      \"column\": \"label\",\n      \"properties\": {\n        \"dtype\": \"category\",\n        \"num_unique_values\": 2,\n        \"samples\": [\n          \"fake\",\n          \"real\"\n        ],\n        \"semantic_type\": \"\",\n        \"description\": \"\"\n      }\n    }\n  ]\n}"
            }
          },
          "metadata": {}
        },
        {
          "output_type": "stream",
          "name": "stdout",
          "text": [
            "\n",
            "📊 Информация о датасете:\n",
            "<class 'pandas.core.frame.DataFrame'>\n",
            "RangeIndex: 6420 entries, 0 to 6419\n",
            "Data columns (total 3 columns):\n",
            " #   Column  Non-Null Count  Dtype \n",
            "---  ------  --------------  ----- \n",
            " 0   id      6420 non-null   int64 \n",
            " 1   tweet   6420 non-null   object\n",
            " 2   label   6420 non-null   object\n",
            "dtypes: int64(1), object(2)\n",
            "memory usage: 150.6+ KB\n",
            "\n",
            "📉 Распределение меток:\n",
            "label\n",
            "real    3360\n",
            "fake    3060\n",
            "Name: count, dtype: int64\n"
          ]
        }
      ]
    },
    {
      "cell_type": "markdown",
      "source": [
        "📌 Общая информация:\n",
        "\n",
        "Всего записей: 6420\n",
        "\n",
        "Классы:\n",
        "\n",
        "real: 3360 (≈52%)\n",
        "\n",
        "fake: 3060 (≈48%) — классы сбалансированы, перекоса нет\n",
        "\n",
        "🧾 Столбцы:\n",
        "\n",
        "id — идентификатор\n",
        "\n",
        "tweet — текст твита\n",
        "\n",
        "label — метка (real или fake)\n",
        "\n"
      ],
      "metadata": {
        "id": "pNrSaDEUglgx"
      }
    },
    {
      "cell_type": "markdown",
      "source": [
        "разведочный анализ текста (EDA):\n",
        "\n",
        "Распределение длины твитов\n",
        "\n",
        "Частотный анализ слов\n",
        "\n",
        "Проверка на стоп-слова и мусор"
      ],
      "metadata": {
        "id": "EpQ-G4s1gtY4"
      }
    },
    {
      "cell_type": "code",
      "source": [
        "import matplotlib.pyplot as plt\n",
        "import seaborn as sns\n",
        "\n",
        "# 🔍 Добавляем столбцы с длиной твитов\n",
        "df['char_count'] = df['tweet'].apply(len)\n",
        "df['word_count'] = df['tweet'].apply(lambda x: len(x.split()))\n",
        "\n",
        "# 📊 Гистограмма длины твитов в символах\n",
        "plt.figure(figsize=(10, 4))\n",
        "sns.histplot(df['char_count'], bins=40, kde=True, color='skyblue')\n",
        "plt.title('Распределение длины твитов (в символах)')\n",
        "plt.xlabel('Количество символов')\n",
        "plt.ylabel('Частота')\n",
        "plt.grid(True, linestyle='--', alpha=0.5)\n",
        "plt.show()\n",
        "\n",
        "# 📊 Гистограмма длины твитов в словах\n",
        "plt.figure(figsize=(10, 4))\n",
        "sns.histplot(df['word_count'], bins=40, kde=True, color='salmon')\n",
        "plt.title('Распределение длины твитов (в словах)')\n",
        "plt.xlabel('Количество слов')\n",
        "plt.ylabel('Частота')\n",
        "plt.grid(True, linestyle='--', alpha=0.5)\n",
        "plt.show()\n"
      ],
      "metadata": {
        "colab": {
          "base_uri": "https://localhost:8080/",
          "height": 803
        },
        "id": "WjyU3XU3hHVb",
        "outputId": "f1bb50e1-8946-49af-9d73-8be07c2f7a8a"
      },
      "execution_count": 3,
      "outputs": [
        {
          "output_type": "display_data",
          "data": {
            "text/plain": [
              "<Figure size 1000x400 with 1 Axes>"
            ],
            "image/png": "[encoded data removed]"
          },
          "metadata": {}
        },
        {
          "output_type": "display_data",
          "data": {
            "text/plain": [
              "<Figure size 1000x400 with 1 Axes>"
            ],
            "image/png": "[encoded data removed]"
          },
          "metadata": {}
        }
      ]
    },
    {
      "cell_type": "markdown",
      "source": [
        "#Выводы из графиков распределения:\n",
        "\n",
        "Длина в символах:\n",
        "\n",
        "Почти все твиты укладываются в стандартный лимит Twitter (280 символов). Есть немного аномальных выбросов до 8000+ символов — возможно, это склеенные или ошибочные записи, их можно позже отфильтровать.\n",
        "\n",
        "Длина в словах:\n",
        "\n",
        "Основная масса — до 50 слов. Распределение похоже на нормальное с «длинным хвостом». Выбросы — свыше 200 слов — тоже могут быть подозрительными."
      ],
      "metadata": {
        "id": "AmYEg0x5hzFv"
      }
    },
    {
      "cell_type": "markdown",
      "source": [
        "приведение текста к нижнему регистру,\n",
        "\n",
        "удаление ссылок, упоминаний и мусора,\n",
        "\n",
        "подсчёт частоты слов с визуализацией топ-20,\n",
        "\n",
        "без стоп-слов — отдельно."
      ],
      "metadata": {
        "id": "M4okS-uFh6OC"
      }
    },
    {
      "cell_type": "code",
      "source": [
        "# 🔍 Случайные 5 твитов для проверки языка\n",
        "df[\"tweet\"].sample(5, random_state=42).tolist()\n"
      ],
      "metadata": {
        "colab": {
          "base_uri": "https://localhost:8080/"
        },
        "id": "ERcxU3sYiKYf",
        "outputId": "7c1326ef-d8bf-423d-a85f-1fd507df69f5"
      },
      "execution_count": 4,
      "outputs": [
        {
          "output_type": "execute_result",
          "data": {
            "text/plain": [
              "['Canada’s top BDSM doctor says wear a mask, leash, tight leather to prevent spread of COVID-19 #cdnpoli #COVID19 https://t.co/1E7yDlIGBD https://t.co/bffEps28Iy',\n",
              " 'There are 3 cases considered to have recovered from COVID-19 so our total number of active cases is 23 – all remain in quarantine facilities.\\u200b \\u200b Our total number of confirmed cases remains at 1192 which is the number we report to the World Health Organization.',\n",
              " 'Heard about contact tracing but not sure what it is? It’s used by health departments to prevent the spread of #COVID19. Learn more: https://t.co/J3Txu3riWr. #SlowtheSpread https://t.co/3f8aEQCTuI',\n",
              " 'India records its highest single-day increase of over 16000 new infections. Only patients who do not have adequate home isolation facility will be transferred to COVID-19 care centres said Delhi Lieutenant Governor Anil Baijal. #COVID19 #CoronavirusFacts https://t.co/9YuXZrePLF',\n",
              " 'Researchers warned of a ticking coronavirus time bomb in 2007. 💣 https://t.co/8V4flWNSKr via @undark']"
            ]
          },
          "metadata": {},
          "execution_count": 4
        }
      ]
    },
    {
      "cell_type": "code",
      "source": [
        "import re\n",
        "from collections import Counter\n",
        "\n",
        "# 🔹 Простейший список английских стоп-слов\n",
        "stopwords_en = {\n",
        "    \"a\", \"an\", \"the\", \"in\", \"on\", \"at\", \"to\", \"from\", \"of\", \"for\", \"is\", \"it\", \"and\",\n",
        "    \"or\", \"this\", \"that\", \"with\", \"as\", \"by\", \"be\", \"are\", \"was\", \"were\", \"have\", \"has\",\n",
        "    \"had\", \"but\", \"not\", \"no\", \"we\", \"you\", \"i\", \"he\", \"she\", \"they\", \"them\", \"us\",\n",
        "    \"my\", \"your\", \"his\", \"her\", \"their\", \"its\", \"our\", \"do\", \"does\", \"did\", \"can\",\n",
        "    \"will\", \"would\", \"could\", \"should\", \"if\", \"so\", \"just\", \"about\", \"than\", \"then\"\n",
        "}\n",
        "\n",
        "# 🔹 Функция очистки\n",
        "def clean_text(text):\n",
        "    text = text.lower()\n",
        "    text = re.sub(r\"http\\S+\", \"\", text)      # удаление ссылок\n",
        "    text = re.sub(r\"@\\w+\", \"\", text)         # удаление упоминаний\n",
        "    text = re.sub(r\"[^a-z\\s]\", \"\", text)     # только буквы и пробелы\n",
        "    return text\n",
        "\n",
        "# 🔹 Чистим все твиты\n",
        "cleaned_tweets = df[\"tweet\"].apply(clean_text)\n",
        "\n",
        "# 🔹 Подсчёт частоты\n",
        "word_counter = Counter()\n",
        "word_counter_nostop = Counter()\n",
        "\n",
        "for tweet in cleaned_tweets:\n",
        "    words = tweet.split()\n",
        "    word_counter.update(words)\n",
        "    word_counter_nostop.update([w for w in words if w not in stopwords_en])\n",
        "\n",
        "# 🔹 Выводим 10 самых частых слов (для предварительного контроля)\n",
        "print(\"🔍 Топ-10 всех слов:\", word_counter.most_common(10))\n",
        "print(\"🔍 Топ-10 без стоп-слов:\", word_counter_nostop.most_common(10))\n"
      ],
      "metadata": {
        "colab": {
          "base_uri": "https://localhost:8080/"
        },
        "id": "6DavjxOvicEC",
        "outputId": "639dd681-3c72-448d-be82-9859f67164ea"
      },
      "execution_count": 5,
      "outputs": [
        {
          "output_type": "stream",
          "name": "stdout",
          "text": [
            "🔍 Топ-10 всех слов: [('the', 6998), ('of', 4616), ('to', 4118), ('in', 3891), ('covid', 3859), ('a', 3114), ('and', 2734), ('is', 2054), ('for', 1834), ('cases', 1722)]\n",
            "🔍 Топ-10 без стоп-слов: [('covid', 3859), ('cases', 1722), ('coronavirus', 1651), ('new', 1092), ('people', 745), ('more', 717), ('tests', 698), ('deaths', 650), ('been', 612), ('there', 600)]\n"
          ]
        }
      ]
    },
    {
      "cell_type": "markdown",
      "source": [
        "Стоп-слова ожидаемо лидируют в общем списке: the, of, to и т.д.\n",
        "\n",
        "Без стоп-слов мы сразу видим тематические ключи:\n",
        "\n",
        "covid, coronavirus, cases, deaths, tests — ключевая тема пандемии;\n",
        "\n",
        "new, people, more — указывают на развитие и распространение событий."
      ],
      "metadata": {
        "id": "xlPulxoCii6C"
      }
    },
    {
      "cell_type": "code",
      "source": [
        "import matplotlib.pyplot as plt\n",
        "\n",
        "# 🔹 Функция для построения диаграммы частот\n",
        "def plot_freq(counter, title):\n",
        "    words, counts = zip(*counter)\n",
        "    plt.figure(figsize=(10, 5))\n",
        "    plt.bar(words, counts, color=\"steelblue\")\n",
        "    plt.title(title)\n",
        "    plt.xticks(rotation=45)\n",
        "    plt.ylabel(\"Частота\")\n",
        "    plt.grid(axis='y')\n",
        "    plt.show()\n",
        "\n",
        "# 📊 График: все слова (в т.ч. стоп-слова)\n",
        "plot_freq(word_counter.most_common(20), \"🔠 Топ-20 слов (все слова)\")\n",
        "\n",
        "# 📊 График: только без стоп-слов\n",
        "plot_freq(word_counter_nostop.most_common(20), \"🔠 Топ-20 слов (без стоп-слов)\")\n"
      ],
      "metadata": {
        "colab": {
          "base_uri": "https://localhost:8080/",
          "height": 1000
        },
        "id": "dRR_U6exilcv",
        "outputId": "1fd639b9-3fee-4027-ab45-62b935c749a1"
      },
      "execution_count": 6,
      "outputs": [
        {
          "output_type": "stream",
          "name": "stderr",
          "text": [
            "/usr/local/lib/python3.11/dist-packages/IPython/core/pylabtools.py:151: UserWarning: Glyph 128288 (\\N{INPUT SYMBOL FOR LATIN CAPITAL LETTERS}) missing from font(s) DejaVu Sans.\n",
            "  fig.canvas.print_figure(bytes_io, **kw)\n"
          ]
        },
        {
          "output_type": "display_data",
          "data": {
            "text/plain": [
              "<Figure size 1000x500 with 1 Axes>"
            ],
            "image/png": "[encoded data removed]"
          },
          "metadata": {}
        },
        {
          "output_type": "display_data",
          "data": {
            "text/plain": [
              "<Figure size 1000x500 with 1 Axes>"
            ],
            "image/png": "[encoded data removed]"
          },
          "metadata": {}
        }
      ]
    },
    {
      "cell_type": "markdown",
      "source": [
        "**Выводы по графикам EDA:**\n",
        "\n",
        "Длина твитов:\n",
        "\n",
        "Большинство сообщений содержат до 300 символов.\n",
        "\n",
        "Есть редкие выбросы длиной свыше 8000 символов — вероятно, мусор или склеенные твиты. Их стоит удалить или сократить.\n",
        "\n",
        "Распределение по количеству слов:\n",
        "\n",
        "Основная масса твитов содержит до 50 слов.\n",
        "\n",
        "Длинные тексты — скорее исключение, что логично для Twitter (ограничение в 280 символов раньше и до 4000 сейчас в подписке).\n",
        "\n",
        "Частотный анализ слов:\n",
        "\n",
        "Среди всех слов доминируют предлоги и артикли: the, of, to, in, a.\n",
        "\n",
        "После удаления стоп-слов — в топ выходят ключевые содержательные слова:\n",
        "\n",
        "'covid', 'cases', 'coronavirus', 'deaths', 'tests', 'people', 'confirmed' — явно тематическая направленность про пандемию.\n",
        "\n",
        "Это подтверждает релевантность датасета задаче фейк/реал классификации."
      ],
      "metadata": {
        "id": "mcNyGyCIjD5L"
      }
    },
    {
      "cell_type": "code",
      "source": [
        "# 📦 Сохраняем подготовленные данные для моделей (без повторной загрузки из интерфейса)\n",
        "\n",
        "import pandas as pd\n",
        "import re\n",
        "\n",
        "# 🔹 Функция для очистки твита\n",
        "def clean_text(text):\n",
        "    text = text.lower()\n",
        "    text = re.sub(r\"http\\S+\", \"\", text)              # удаляем ссылки\n",
        "    text = re.sub(r\"@\\w+\", \"\", text)                 # удаляем упоминания\n",
        "    text = re.sub(r\"[^a-z\\s]\", \"\", text)             # оставляем только буквы и пробелы\n",
        "    return text\n",
        "\n",
        "# 🔹 Копируем и очищаем\n",
        "df_clean = df.copy()\n",
        "df_clean[\"text\"] = df_clean[\"tweet\"].apply(clean_text)\n",
        "df_clean[\"label\"] = df_clean[\"label\"].map({\"fake\": 0, \"real\": 1})\n",
        "\n",
        "# 🔹 Сохраняем в файл CSV для использования в моделях\n",
        "df_clean[[\"text\", \"label\"]].to_csv(\"fakenews_clean.csv\", index=False)\n",
        "\n",
        "print(\"✅ Данные очищены и сохранены в fakenews_clean.csv\")\n",
        "df_clean.head()\n"
      ],
      "metadata": {
        "colab": {
          "base_uri": "https://localhost:8080/",
          "height": 224
        },
        "id": "jPNkTLy_jKco",
        "outputId": "e744791e-29fb-47a2-d15f-57903881236d"
      },
      "execution_count": 7,
      "outputs": [
        {
          "output_type": "stream",
          "name": "stdout",
          "text": [
            "✅ Данные очищены и сохранены в fakenews_clean.csv\n"
          ]
        },
        {
          "output_type": "execute_result",
          "data": {
            "text/plain": [
              "   id                                              tweet  label  char_count  \\\n",
              "0   1  The CDC currently reports 99031 deaths. In gen...      1         190   \n",
              "1   2  States reported 1121 deaths a small rise from ...      1         129   \n",
              "2   3  Politically Correct Woman (Almost) Uses Pandem...      0         131   \n",
              "3   4  #IndiaFightsCorona: We have 1524 #COVID testin...      1         204   \n",
              "4   5  Populous states can generate large case counts...      1         231   \n",
              "\n",
              "   word_count                                               text  \n",
              "0          29  the cdc currently reports  deaths in general t...  \n",
              "1          18  states reported  deaths a small rise from last...  \n",
              "2          16  politically correct woman almost uses pandemic...  \n",
              "3          27  indiafightscorona we have  covid testing labor...  \n",
              "4          42  populous states can generate large case counts...  "
            ],
            "text/html": [
              "\n",
              "  <div id=\"df-ead24b37-a288-4393-8a5c-74d5fb7cde32\" class=\"colab-df-container\">\n",
              "    <div>\n",
              "<style scoped>\n",
              "    .dataframe tbody tr th:only-of-type {\n",
              "        vertical-align: middle;\n",
              "    }\n",
              "\n",
              "    .dataframe tbody tr th {\n",
              "        vertical-align: top;\n",
              "    }\n",
              "\n",
              "    .dataframe thead th {\n",
              "        text-align: right;\n",
              "    }\n",
              "</style>\n",
              "<table border=\"1\" class=\"dataframe\">\n",
              "  <thead>\n",
              "    <tr style=\"text-align: right;\">\n",
              "      <th></th>\n",
              "      <th>id</th>\n",
              "      <th>tweet</th>\n",
              "      <th>label</th>\n",
              "      <th>char_count</th>\n",
              "      <th>word_count</th>\n",
              "      <th>text</th>\n",
              "    </tr>\n",
              "  </thead>\n",
              "  <tbody>\n",
              "    <tr>\n",
              "      <th>0</th>\n",
              "      <td>1</td>\n",
              "      <td>The CDC currently reports 99031 deaths. In gen...</td>\n",
              "      <td>1</td>\n",
              "      <td>190</td>\n",
              "      <td>29</td>\n",
              "      <td>the cdc currently reports  deaths in general t...</td>\n",
              "    </tr>\n",
              "    <tr>\n",
              "      <th>1</th>\n",
              "      <td>2</td>\n",
              "      <td>States reported 1121 deaths a small rise from ...</td>\n",
              "      <td>1</td>\n",
              "      <td>129</td>\n",
              "      <td>18</td>\n",
              "      <td>states reported  deaths a small rise from last...</td>\n",
              "    </tr>\n",
              "    <tr>\n",
              "      <th>2</th>\n",
              "      <td>3</td>\n",
              "      <td>Politically Correct Woman (Almost) Uses Pandem...</td>\n",
              "      <td>0</td>\n",
              "      <td>131</td>\n",
              "      <td>16</td>\n",
              "      <td>politically correct woman almost uses pandemic...</td>\n",
              "    </tr>\n",
              "    <tr>\n",
              "      <th>3</th>\n",
              "      <td>4</td>\n",
              "      <td>#IndiaFightsCorona: We have 1524 #COVID testin...</td>\n",
              "      <td>1</td>\n",
              "      <td>204</td>\n",
              "      <td>27</td>\n",
              "      <td>indiafightscorona we have  covid testing labor...</td>\n",
              "    </tr>\n",
              "    <tr>\n",
              "      <th>4</th>\n",
              "      <td>5</td>\n",
              "      <td>Populous states can generate large case counts...</td>\n",
              "      <td>1</td>\n",
              "      <td>231</td>\n",
              "      <td>42</td>\n",
              "      <td>populous states can generate large case counts...</td>\n",
              "    </tr>\n",
              "  </tbody>\n",
              "</table>\n",
              "</div>\n",
              "    <div class=\"colab-df-buttons\">\n",
              "\n",
              "  <div class=\"colab-df-container\">\n",
              "    <button class=\"colab-df-convert\" onclick=\"convertToInteractive('df-ead24b37-a288-4393-8a5c-74d5fb7cde32')\"\n",
              "            title=\"Convert this dataframe to an interactive table.\"\n",
              "            style=\"display:none;\">\n",
              "\n",
              "  <svg xmlns=\"http://www.w3.org/2000/svg\" height=\"24px\" viewBox=\"0 -960 960 960\">\n",
              "    <path d=\"M120-120v-720h720v720H120Zm60-500h600v-160H180v160Zm220 220h160v-160H400v160Zm0 220h160v-160H400v160ZM180-400h160v-160H180v160Zm440 0h160v-160H620v160ZM180-180h160v-160H180v160Zm440 0h160v-160H620v160Z\"/>\n",
              "  </svg>\n",
              "    </button>\n",
              "\n",
              "  <style>\n",
              "    .colab-df-container {\n",
              "      display:flex;\n",
              "      gap: 12px;\n",
              "    }\n",
              "\n",
              "    .colab-df-convert {\n",
              "      background-color: #E8F0FE;\n",
              "      border: none;\n",
              "      border-radius: 50%;\n",
              "      cursor: pointer;\n",
              "      display: none;\n",
              "      fill: #1967D2;\n",
              "      height: 32px;\n",
              "      padding: 0 0 0 0;\n",
              "      width: 32px;\n",
              "    }\n",
              "\n",
              "    .colab-df-convert:hover {\n",
              "      background-color: #E2EBFA;\n",
              "      box-shadow: 0px 1px 2px rgba(60, 64, 67, 0.3), 0px 1px 3px 1px rgba(60, 64, 67, 0.15);\n",
              "      fill: #174EA6;\n",
              "    }\n",
              "\n",
              "    .colab-df-buttons div {\n",
              "      margin-bottom: 4px;\n",
              "    }\n",
              "\n",
              "    [theme=dark] .colab-df-convert {\n",
              "      background-color: #3B4455;\n",
              "      fill: #D2E3FC;\n",
              "    }\n",
              "\n",
              "    [theme=dark] .colab-df-convert:hover {\n",
              "      background-color: #434B5C;\n",
              "      box-shadow: 0px 1px 3px 1px rgba(0, 0, 0, 0.15);\n",
              "      filter: drop-shadow(0px 1px 2px rgba(0, 0, 0, 0.3));\n",
              "      fill: #FFFFFF;\n",
              "    }\n",
              "  </style>\n",
              "\n",
              "    <script>\n",
              "      const buttonEl =\n",
              "        document.querySelector('#df-ead24b37-a288-4393-8a5c-74d5fb7cde32 button.colab-df-convert');\n",
              "      buttonEl.style.display =\n",
              "        google.colab.kernel.accessAllowed ? 'block' : 'none';\n",
              "\n",
              "      async function convertToInteractive(key) {\n",
              "        const element = document.querySelector('#df-ead24b37-a288-4393-8a5c-74d5fb7cde32');\n",
              "        const dataTable =\n",
              "          await google.colab.kernel.invokeFunction('convertToInteractive',\n",
              "                                                    [key], {});\n",
              "        if (!dataTable) return;\n",
              "\n",
              "        const docLinkHtml = 'Like what you see? Visit the ' +\n",
              "          '<a target=\"_blank\" href=https://colab.research.google.com/notebooks/data_table.ipynb>data table notebook</a>'\n",
              "          + ' to learn more about interactive tables.';\n",
              "        element.innerHTML = '';\n",
              "        dataTable['output_type'] = 'display_data';\n",
              "        await google.colab.output.renderOutput(dataTable, element);\n",
              "        const docLink = document.createElement('div');\n",
              "        docLink.innerHTML = docLinkHtml;\n",
              "        element.appendChild(docLink);\n",
              "      }\n",
              "    </script>\n",
              "  </div>\n",
              "\n",
              "\n",
              "    <div id=\"df-e4a8d772-2ba2-4b53-bf32-923f4e813955\">\n",
              "      <button class=\"colab-df-quickchart\" onclick=\"quickchart('df-e4a8d772-2ba2-4b53-bf32-923f4e813955')\"\n",
              "                title=\"Suggest charts\"\n",
              "                style=\"display:none;\">\n",
              "\n",
              "<svg xmlns=\"http://www.w3.org/2000/svg\" height=\"24px\"viewBox=\"0 0 24 24\"\n",
              "     width=\"24px\">\n",
              "    <g>\n",
              "        <path d=\"M19 3H5c-1.1 0-2 .9-2 2v14c0 1.1.9 2 2 2h14c1.1 0 2-.9 2-2V5c0-1.1-.9-2-2-2zM9 17H7v-7h2v7zm4 0h-2V7h2v10zm4 0h-2v-4h2v4z\"/>\n",
              "    </g>\n",
              "</svg>\n",
              "      </button>\n",
              "\n",
              "<style>\n",
              "  .colab-df-quickchart {\n",
              "      --bg-color: #E8F0FE;\n",
              "      --fill-color: #1967D2;\n",
              "      --hover-bg-color: #E2EBFA;\n",
              "      --hover-fill-color: #174EA6;\n",
              "      --disabled-fill-color: #AAA;\n",
              "      --disabled-bg-color: #DDD;\n",
              "  }\n",
              "\n",
              "  [theme=dark] .colab-df-quickchart {\n",
              "      --bg-color: #3B4455;\n",
              "      --fill-color: #D2E3FC;\n",
              "      --hover-bg-color: #434B5C;\n",
              "      --hover-fill-color: #FFFFFF;\n",
              "      --disabled-bg-color: #3B4455;\n",
              "      --disabled-fill-color: #666;\n",
              "  }\n",
              "\n",
              "  .colab-df-quickchart {\n",
              "    background-color: var(--bg-color);\n",
              "    border: none;\n",
              "    border-radius: 50%;\n",
              "    cursor: pointer;\n",
              "    display: none;\n",
              "    fill: var(--fill-color);\n",
              "    height: 32px;\n",
              "    padding: 0;\n",
              "    width: 32px;\n",
              "  }\n",
              "\n",
              "  .colab-df-quickchart:hover {\n",
              "    background-color: var(--hover-bg-color);\n",
              "    box-shadow: 0 1px 2px rgba(60, 64, 67, 0.3), 0 1px 3px 1px rgba(60, 64, 67, 0.15);\n",
              "    fill: var(--button-hover-fill-color);\n",
              "  }\n",
              "\n",
              "  .colab-df-quickchart-complete:disabled,\n",
              "  .colab-df-quickchart-complete:disabled:hover {\n",
              "    background-color: var(--disabled-bg-color);\n",
              "    fill: var(--disabled-fill-color);\n",
              "    box-shadow: none;\n",
              "  }\n",
              "\n",
              "  .colab-df-spinner {\n",
              "    border: 2px solid var(--fill-color);\n",
              "    border-color: transparent;\n",
              "    border-bottom-color: var(--fill-color);\n",
              "    animation:\n",
              "      spin 1s steps(1) infinite;\n",
              "  }\n",
              "\n",
              "  @keyframes spin {\n",
              "    0% {\n",
              "      border-color: transparent;\n",
              "      border-bottom-color: var(--fill-color);\n",
              "      border-left-color: var(--fill-color);\n",
              "    }\n",
              "    20% {\n",
              "      border-color: transparent;\n",
              "      border-left-color: var(--fill-color);\n",
              "      border-top-color: var(--fill-color);\n",
              "    }\n",
              "    30% {\n",
              "      border-color: transparent;\n",
              "      border-left-color: var(--fill-color);\n",
              "      border-top-color: var(--fill-color);\n",
              "      border-right-color: var(--fill-color);\n",
              "    }\n",
              "    40% {\n",
              "      border-color: transparent;\n",
              "      border-right-color: var(--fill-color);\n",
              "      border-top-color: var(--fill-color);\n",
              "    }\n",
              "    60% {\n",
              "      border-color: transparent;\n",
              "      border-right-color: var(--fill-color);\n",
              "    }\n",
              "    80% {\n",
              "      border-color: transparent;\n",
              "      border-right-color: var(--fill-color);\n",
              "      border-bottom-color: var(--fill-color);\n",
              "    }\n",
              "    90% {\n",
              "      border-color: transparent;\n",
              "      border-bottom-color: var(--fill-color);\n",
              "    }\n",
              "  }\n",
              "</style>\n",
              "\n",
              "      <script>\n",
              "        async function quickchart(key) {\n",
              "          const quickchartButtonEl =\n",
              "            document.querySelector('#' + key + ' button');\n",
              "          quickchartButtonEl.disabled = true;  // To prevent multiple clicks.\n",
              "          quickchartButtonEl.classList.add('colab-df-spinner');\n",
              "          try {\n",
              "            const charts = await google.colab.kernel.invokeFunction(\n",
              "                'suggestCharts', [key], {});\n",
              "          } catch (error) {\n",
              "            console.error('Error during call to suggestCharts:', error);\n",
              "          }\n",
              "          quickchartButtonEl.classList.remove('colab-df-spinner');\n",
              "          quickchartButtonEl.classList.add('colab-df-quickchart-complete');\n",
              "        }\n",
              "        (() => {\n",
              "          let quickchartButtonEl =\n",
              "            document.querySelector('#df-e4a8d772-2ba2-4b53-bf32-923f4e813955 button');\n",
              "          quickchartButtonEl.style.display =\n",
              "            google.colab.kernel.accessAllowed ? 'block' : 'none';\n",
              "        })();\n",
              "      </script>\n",
              "    </div>\n",
              "    </div>\n",
              "  </div>\n"
            ],
            "application/vnd.google.colaboratory.intrinsic+json": {
              "type": "dataframe",
              "variable_name": "df_clean",
              "summary": "{\n  \"name\": \"df_clean\",\n  \"rows\": 6420,\n  \"fields\": [\n    {\n      \"column\": \"id\",\n      \"properties\": {\n        \"dtype\": \"number\",\n        \"std\": 1853,\n        \"min\": 1,\n        \"max\": 6420,\n        \"num_unique_values\": 6420,\n        \"samples\": [\n          325,\n          1341,\n          6026\n        ],\n        \"semantic_type\": \"\",\n        \"description\": \"\"\n      }\n    },\n    {\n      \"column\": \"tweet\",\n      \"properties\": {\n        \"dtype\": \"string\",\n        \"num_unique_values\": 6420,\n        \"samples\": [\n          \"Canada\\u2019s top BDSM doctor says wear a mask, leash, tight leather to prevent spread of COVID-19 #cdnpoli #COVID19 https://t.co/1E7yDlIGBD https://t.co/bffEps28Iy\",\n          \"There are 3 cases considered to have recovered from COVID-19 so our total number of active cases is 23 \\u2013 all remain in quarantine facilities.\\u200b \\u200b Our total number of confirmed cases remains at 1192 which is the number we report to the World Health Organization.\",\n          \"Heard about contact tracing but not sure what it is? It\\u2019s used by health departments to prevent the spread of #COVID19. Learn more: https://t.co/J3Txu3riWr. #SlowtheSpread https://t.co/3f8aEQCTuI\"\n        ],\n        \"semantic_type\": \"\",\n        \"description\": \"\"\n      }\n    },\n    {\n      \"column\": \"label\",\n      \"properties\": {\n        \"dtype\": \"number\",\n        \"std\": 0,\n        \"min\": 0,\n        \"max\": 1,\n        \"num_unique_values\": 2,\n        \"samples\": [\n          0,\n          1\n        ],\n        \"semantic_type\": \"\",\n        \"description\": \"\"\n      }\n    },\n    {\n      \"column\": \"char_count\",\n      \"properties\": {\n        \"dtype\": \"number\",\n        \"std\": 150,\n        \"min\": 18,\n        \"max\": 8846,\n        \"num_unique_values\": 355,\n        \"samples\": [\n          186,\n          142\n        ],\n        \"semantic_type\": \"\",\n        \"description\": \"\"\n      }\n    },\n    {\n      \"column\": \"word_count\",\n      \"properties\": {\n        \"dtype\": \"number\",\n        \"std\": 24,\n        \"min\": 3,\n        \"max\": 1456,\n        \"num_unique_values\": 81,\n        \"samples\": [\n          7,\n          29\n        ],\n        \"semantic_type\": \"\",\n        \"description\": \"\"\n      }\n    },\n    {\n      \"column\": \"text\",\n      \"properties\": {\n        \"dtype\": \"string\",\n        \"num_unique_values\": 6230,\n        \"samples\": [\n          \"indiafightscorona india records  covid recoveries in past  hrs recovery rate at  today more than  lakh  total recoveries exceed active cases by more than  lakhs   \",\n          \"kenyan president uhuru gives artists sh  billion as a cushion due to covid job losses\"\n        ],\n        \"semantic_type\": \"\",\n        \"description\": \"\"\n      }\n    }\n  ]\n}"
            }
          },
          "metadata": {},
          "execution_count": 7
        }
      ]
    },
    {
      "cell_type": "markdown",
      "source": [
        "# Базовая классификация (Logistic Regression + TF-IDF)"
      ],
      "metadata": {
        "id": "maHVBKrcjTHy"
      }
    },
    {
      "cell_type": "code",
      "source": [
        "import pandas as pd\n",
        "from sklearn.model_selection import train_test_split\n",
        "\n",
        "# 🔹 Загружаем очищенные данные\n",
        "df = pd.read_csv(\"fakenews_clean.csv\")\n",
        "\n",
        "# 🔹 Разделяем\n",
        "X_train, X_test, y_train, y_test = train_test_split(\n",
        "    df[\"text\"], df[\"label\"], test_size=0.2, random_state=42, stratify=df[\"label\"]\n",
        ")\n",
        "\n",
        "print(f\"📦 Обучающая выборка: {len(X_train)} примеров\")\n",
        "print(f\"📦 Тестовая выборка: {len(X_test)} примеров\")\n"
      ],
      "metadata": {
        "colab": {
          "base_uri": "https://localhost:8080/"
        },
        "id": "Crg5m9_TjWvK",
        "outputId": "e4f50633-b292-4313-be24-b834ba83f58c"
      },
      "execution_count": 8,
      "outputs": [
        {
          "output_type": "stream",
          "name": "stdout",
          "text": [
            "📦 Обучающая выборка: 5136 примеров\n",
            "📦 Тестовая выборка: 1284 примеров\n"
          ]
        }
      ]
    },
    {
      "cell_type": "code",
      "source": [
        "from sklearn.feature_extraction.text import TfidfVectorizer\n",
        "from sklearn.linear_model import LogisticRegression\n",
        "from sklearn.metrics import classification_report, accuracy_score, f1_score\n",
        "\n",
        "# 🔹 Векторизация: используем униграммы и биграммы\n",
        "vectorizer = TfidfVectorizer(ngram_range=(1, 2), max_features=10000)\n",
        "X_train_vec = vectorizer.fit_transform(X_train)\n",
        "X_test_vec = vectorizer.transform(X_test)\n",
        "\n",
        "# 🔹 Модель\n",
        "model = LogisticRegression(max_iter=1000, random_state=42)\n",
        "model.fit(X_train_vec, y_train)\n",
        "\n",
        "# 🔹 Предсказание\n",
        "y_pred = model.predict(X_test_vec)\n",
        "\n",
        "# 📊 Оценка\n",
        "acc = accuracy_score(y_test, y_pred)\n",
        "f1 = f1_score(y_test, y_pred)\n",
        "\n",
        "print(f\"📘 Accuracy: {acc:.4f}\")\n",
        "print(f\"📘 F1-score: {f1:.4f}\")\n",
        "print(\"\\n📘 Classification report:\")\n",
        "print(classification_report(y_test, y_pred))\n"
      ],
      "metadata": {
        "colab": {
          "base_uri": "https://localhost:8080/"
        },
        "id": "zOCcIUELjdcI",
        "outputId": "29350c99-e12b-49a8-8696-928b3faea8f1"
      },
      "execution_count": 9,
      "outputs": [
        {
          "output_type": "stream",
          "name": "stdout",
          "text": [
            "📘 Accuracy: 0.9097\n",
            "📘 F1-score: 0.9132\n",
            "\n",
            "📘 Classification report:\n",
            "              precision    recall  f1-score   support\n",
            "\n",
            "           0       0.90      0.91      0.91       612\n",
            "           1       0.92      0.91      0.91       672\n",
            "\n",
            "    accuracy                           0.91      1284\n",
            "   macro avg       0.91      0.91      0.91      1284\n",
            "weighted avg       0.91      0.91      0.91      1284\n",
            "\n"
          ]
        }
      ]
    },
    {
      "cell_type": "markdown",
      "source": [
        "Результат по первому методу (TF-IDF + LogisticRegression):\n",
        "Accuracy: 0.9097\n",
        "\n",
        "F1-score: 0.9132 ✅ → цель F1 > 0.91 достигнута"
      ],
      "metadata": {
        "id": "mgn88TvdjmCR"
      }
    },
    {
      "cell_type": "markdown",
      "source": [
        "# TF-IDF + SVD (LSA) + классификация\n",
        "\n",
        "Будем использовать:\n",
        "\n",
        "TfidfVectorizer — преобразует текст в числовые векторы,\n",
        "\n",
        "TruncatedSVD — снижает размерность, извлекая скрытые семантические темы,\n",
        "\n",
        "LogisticRegression — классификация.\n",
        "\n"
      ],
      "metadata": {
        "id": "wpSbQsEgjpdw"
      }
    },
    {
      "cell_type": "code",
      "source": [
        "from sklearn.decomposition import TruncatedSVD\n",
        "\n",
        "# 🔹 TF-IDF\n",
        "vectorizer_svd = TfidfVectorizer(ngram_range=(1, 1), max_features=10000)\n",
        "X_train_tfidf = vectorizer_svd.fit_transform(X_train)\n",
        "X_test_tfidf = vectorizer_svd.transform(X_test)\n",
        "\n",
        "# 🔹 SVD (LSA) — выделим 100 латентных признаков\n",
        "svd = TruncatedSVD(n_components=100, random_state=42)\n",
        "X_train_svd = svd.fit_transform(X_train_tfidf)\n",
        "X_test_svd = svd.transform(X_test_tfidf)\n",
        "\n",
        "# 🔹 Классификация\n",
        "model_svd = LogisticRegression(max_iter=1000, random_state=42)\n",
        "model_svd.fit(X_train_svd, y_train)\n",
        "y_pred_svd = model_svd.predict(X_test_svd)\n",
        "\n",
        "# 🔹 Оценка\n",
        "acc_svd = accuracy_score(y_test, y_pred_svd)\n",
        "f1_svd = f1_score(y_test, y_pred_svd)\n",
        "\n",
        "print(f\"📘 Accuracy (TF-IDF + SVD): {acc_svd:.4f}\")\n",
        "print(f\"📘 F1-score (TF-IDF + SVD): {f1_svd:.4f}\")\n",
        "print(\"\\n📘 Classification report:\")\n",
        "print(classification_report(y_test, y_pred_svd))\n"
      ],
      "metadata": {
        "colab": {
          "base_uri": "https://localhost:8080/"
        },
        "id": "y325Xnt3jwIO",
        "outputId": "c769aa86-fc7c-4f72-8cf8-3a635a8a452e"
      },
      "execution_count": 10,
      "outputs": [
        {
          "output_type": "stream",
          "name": "stdout",
          "text": [
            "📘 Accuracy (TF-IDF + SVD): 0.8723\n",
            "📘 F1-score (TF-IDF + SVD): 0.8761\n",
            "\n",
            "📘 Classification report:\n",
            "              precision    recall  f1-score   support\n",
            "\n",
            "           0       0.85      0.88      0.87       612\n",
            "           1       0.89      0.86      0.88       672\n",
            "\n",
            "    accuracy                           0.87      1284\n",
            "   macro avg       0.87      0.87      0.87      1284\n",
            "weighted avg       0.87      0.87      0.87      1284\n",
            "\n"
          ]
        }
      ]
    },
    {
      "cell_type": "markdown",
      "source": [
        "Вариант 2 (TF-IDF + SVD) дал чуть худший результат:\n",
        "\n",
        "F1-score: 0.8761 — ❌ ниже целевого порога > 0.91\n",
        "\n",
        "Потеря качества объясняется снижением размерности — вектора теряют часть информации.\n",
        "\n"
      ],
      "metadata": {
        "id": "0ibf84HKj-FI"
      }
    },
    {
      "cell_type": "markdown",
      "source": [
        "# Метод 3: символьные n-граммы (char-level n-grams)"
      ],
      "metadata": {
        "id": "-qqz7Z7dkCFv"
      }
    },
    {
      "cell_type": "code",
      "source": [
        "from sklearn.feature_extraction.text import TfidfVectorizer\n",
        "from sklearn.linear_model import LogisticRegression\n",
        "from sklearn.metrics import classification_report, f1_score, accuracy_score\n",
        "\n",
        "# 🔢 Векторизация: символьные n-граммы (от 3 до 5 символов)\n",
        "char_vectorizer = TfidfVectorizer(analyzer='char', ngram_range=(3, 5), max_features=10000)\n",
        "X_char_train = char_vectorizer.fit_transform(X_train)\n",
        "X_char_test = char_vectorizer.transform(X_test)\n",
        "\n",
        "# 🔍 Классификация: логистическая регрессия\n",
        "clf_char = LogisticRegression(max_iter=1000, random_state=42)\n",
        "clf_char.fit(X_char_train, y_train)\n",
        "y_pred_char = clf_char.predict(X_char_test)\n",
        "\n",
        "# 📊 Оценка качества\n",
        "acc_char = accuracy_score(y_test, y_pred_char)\n",
        "f1_char = f1_score(y_test, y_pred_char)\n",
        "\n",
        "print(f\"📘 Accuracy (char n-grams): {acc_char:.4f}\")\n",
        "print(f\"📘 F1-score (char n-grams): {f1_char:.4f}\")\n",
        "print(\"\\n📘 Classification report:\")\n",
        "print(classification_report(y_test, y_pred_char))\n"
      ],
      "metadata": {
        "colab": {
          "base_uri": "https://localhost:8080/"
        },
        "id": "krz-Qk5_kLUa",
        "outputId": "8cc7fe02-a7b6-4553-e434-0fbdd9e9b1d1"
      },
      "execution_count": 11,
      "outputs": [
        {
          "output_type": "stream",
          "name": "stdout",
          "text": [
            "📘 Accuracy (char n-grams): 0.9011\n",
            "📘 F1-score (char n-grams): 0.9043\n",
            "\n",
            "📘 Classification report:\n",
            "              precision    recall  f1-score   support\n",
            "\n",
            "           0       0.89      0.91      0.90       612\n",
            "           1       0.92      0.89      0.90       672\n",
            "\n",
            "    accuracy                           0.90      1284\n",
            "   macro avg       0.90      0.90      0.90      1284\n",
            "weighted avg       0.90      0.90      0.90      1284\n",
            "\n"
          ]
        }
      ]
    },
    {
      "cell_type": "markdown",
      "source": [
        "| Модель                          | Accuracy | F1-score |\n",
        "| ------------------------------- | -------- | -------- |\n",
        "| 🔹 TF-IDF (word unigrams + LR)  | 0.9097   | 0.9132   |\n",
        "| 🔹 TF-IDF + SVD (LSA) + LR      | 0.8723   | 0.8761   |\n",
        "| 🔹 TF-IDF (char 3-5-grams) + LR | 0.9011   | 0.9043   |\n"
      ],
      "metadata": {
        "id": "5pR3JrqlkVks"
      }
    },
    {
      "cell_type": "markdown",
      "source": [
        "# классификация с использованием нейросети на PyTorch"
      ],
      "metadata": {
        "id": "UxqGatXYkac3"
      }
    },
    {
      "cell_type": "code",
      "source": [
        "import pandas as pd\n",
        "\n",
        "# Загрузка\n",
        "df = pd.read_csv(\"Constraint_Train.csv\")\n",
        "\n",
        "# Покажем первые строки\n",
        "print(\"🔍 Пример строк:\")\n",
        "print(df.head())\n",
        "\n",
        "# Статистика по меткам\n",
        "print(\"\\n📊 Распределение меток:\")\n",
        "print(df[\"label\"].value_counts(dropna=False))\n",
        "\n",
        "# Проверим типы\n",
        "print(\"\\n📋 Типы данных:\")\n",
        "print(df.dtypes)\n"
      ],
      "metadata": {
        "colab": {
          "base_uri": "https://localhost:8080/"
        },
        "id": "VtAdEziinLwx",
        "outputId": "da739e90-3519-4ee9-e81a-a921fe1eca6d"
      },
      "execution_count": 34,
      "outputs": [
        {
          "output_type": "stream",
          "name": "stdout",
          "text": [
            "🔍 Пример строк:\n",
            "   id                                              tweet label\n",
            "0   1  The CDC currently reports 99031 deaths. In gen...  real\n",
            "1   2  States reported 1121 deaths a small rise from ...  real\n",
            "2   3  Politically Correct Woman (Almost) Uses Pandem...  fake\n",
            "3   4  #IndiaFightsCorona: We have 1524 #COVID testin...  real\n",
            "4   5  Populous states can generate large case counts...  real\n",
            "\n",
            "📊 Распределение меток:\n",
            "label\n",
            "real    3360\n",
            "fake    3060\n",
            "Name: count, dtype: int64\n",
            "\n",
            "📋 Типы данных:\n",
            "id        int64\n",
            "tweet    object\n",
            "label    object\n",
            "dtype: object\n"
          ]
        }
      ]
    },
    {
      "cell_type": "code",
      "source": [
        "import re\n",
        "\n",
        "# 🔹 Функция очистки твита\n",
        "def clean_tweet(text):\n",
        "    text = text.lower()\n",
        "    text = re.sub(r\"http\\S+\", \"\", text)        # удаление ссылок\n",
        "    text = re.sub(r\"@\\w+\", \"\", text)           # упоминания\n",
        "    text = re.sub(r\"#\", \"\", text)              # хэштеги\n",
        "    text = re.sub(r\"[^a-z\\s]\", \"\", text)       # только латиница и пробелы\n",
        "    return text.strip()\n",
        "\n",
        "# 🔹 Применяем очистку\n",
        "df[\"text\"] = df[\"tweet\"].apply(clean_tweet)\n",
        "\n",
        "# 🔹 Преобразуем метки\n",
        "label_map = {\"real\": 1, \"fake\": 0}\n",
        "df[\"label\"] = df[\"label\"].map(label_map)\n",
        "\n",
        "# Проверка результата\n",
        "print(\"🔎 Пример очищенного текста:\")\n",
        "print(df[[\"text\", \"label\"]].head())\n"
      ],
      "metadata": {
        "colab": {
          "base_uri": "https://localhost:8080/"
        },
        "id": "c2c1x-kYnURS",
        "outputId": "255c7c2c-365c-4bbe-c28b-f9800f244c5d"
      },
      "execution_count": 35,
      "outputs": [
        {
          "output_type": "stream",
          "name": "stdout",
          "text": [
            "🔎 Пример очищенного текста:\n",
            "                                                text  label\n",
            "0  the cdc currently reports  deaths in general t...      1\n",
            "1  states reported  deaths a small rise from last...      1\n",
            "2  politically correct woman almost uses pandemic...      0\n",
            "3  indiafightscorona we have  covid testing labor...      1\n",
            "4  populous states can generate large case counts...      1\n"
          ]
        }
      ]
    },
    {
      "cell_type": "code",
      "source": [
        "from collections import Counter\n",
        "\n",
        "# 🔹 Простая токенизация\n",
        "def tokenize(text):\n",
        "    return text.split()\n",
        "\n",
        "df[\"tokens\"] = df[\"text\"].apply(tokenize)\n",
        "\n",
        "# 🔹 Построение словаря (word2idx)\n",
        "all_tokens = [token for tokens in df[\"tokens\"] for token in tokens]\n",
        "word_freq = Counter(all_tokens)\n",
        "vocab_size = 10000\n",
        "\n",
        "# Включаем <PAD>=0 и <UNK>=1\n",
        "vocab = {\"<PAD>\": 0, \"<UNK>\": 1}\n",
        "for idx, (word, _) in enumerate(word_freq.most_common(vocab_size - 2), start=2):\n",
        "    vocab[word] = idx\n",
        "\n",
        "print(f\"📦 Размер словаря: {len(vocab)}\")\n",
        "print(f\"🔤 Примеры токенов: {list(vocab.items())[100:110]}\")\n"
      ],
      "metadata": {
        "colab": {
          "base_uri": "https://localhost:8080/"
        },
        "id": "5c5AkCV7na28",
        "outputId": "f5a20f1f-eb47-4dd2-f37d-2d2c1482f611"
      },
      "execution_count": 36,
      "outputs": [
        {
          "output_type": "stream",
          "name": "stdout",
          "text": [
            "📦 Размер словаря: 10000\n",
            "🔤 Примеры токенов: [('rate', 100), ('out', 101), ('video', 102), ('recovered', 103), ('when', 104), ('during', 105), ('also', 106), ('world', 107), ('shows', 108), ('he', 109)]\n"
          ]
        }
      ]
    },
    {
      "cell_type": "markdown",
      "source": [
        "Теперь:\n",
        "\n",
        "Преобразуем каждый список токенов в список индексов (word2idx)\n",
        "\n",
        "Ограничим максимальную длину (например, 64 токена)\n",
        "\n",
        "Добавим паддинг (<PAD> = 0) в конец при необходимости\n",
        "\n",
        "Обернём всё в torch.Tensor"
      ],
      "metadata": {
        "id": "GUN6h_MHnhor"
      }
    },
    {
      "cell_type": "code",
      "source": [
        "import torch\n",
        "\n",
        "# 🔹 Гиперпараметры\n",
        "MAX_LEN = 64\n",
        "\n",
        "# 🔹 Функция для преобразования в индексы с паддингом\n",
        "def encode_tokens(tokens, vocab, max_len=MAX_LEN):\n",
        "    ids = [vocab.get(token, vocab[\"<UNK>\"]) for token in tokens[:max_len]]\n",
        "    if len(ids) < max_len:\n",
        "        ids += [vocab[\"<PAD>\"]] * (max_len - len(ids))\n",
        "    return ids\n",
        "\n",
        "# 🔹 Преобразование всех твитов\n",
        "df[\"input_ids\"] = df[\"tokens\"].apply(lambda x: encode_tokens(x, vocab))\n",
        "\n",
        "# 🔹 Проверка\n",
        "print(\"🧾 Пример:\")\n",
        "print(df[[\"tokens\", \"input_ids\"]].iloc[0])\n"
      ],
      "metadata": {
        "colab": {
          "base_uri": "https://localhost:8080/"
        },
        "id": "MZkKNxeunjVj",
        "outputId": "0286564a-425b-4a23-d528-0f7ed3a3b25d"
      },
      "execution_count": 37,
      "outputs": [
        {
          "output_type": "stream",
          "name": "stdout",
          "text": [
            "🧾 Пример:\n",
            "tokens       [the, cdc, currently, reports, deaths, in, gen...\n",
            "input_ids    [2, 139, 274, 259, 30, 5, 740, 2, 6334, 5, 125...\n",
            "Name: 0, dtype: object\n"
          ]
        }
      ]
    },
    {
      "cell_type": "markdown",
      "source": [
        "Теперь сделаем:\n",
        "\n",
        "Тензоры X и y\n",
        "\n",
        "Разделим на обучающую и тестовую выборки (stratify обязательно!)\n",
        "\n",
        "Обернём в TensorDataset и DataLoader"
      ],
      "metadata": {
        "id": "8LuuTpYsnrSh"
      }
    },
    {
      "cell_type": "code",
      "source": [
        "from sklearn.model_selection import train_test_split\n",
        "from torch.utils.data import TensorDataset, DataLoader\n",
        "\n",
        "# 🎯 Целевые метки\n",
        "df[\"label_id\"] = df[\"label\"].map({\"real\": 1, \"fake\": 0})\n",
        "\n",
        "# 📦 Входные и выходные данные\n",
        "X = torch.tensor(df[\"input_ids\"].tolist(), dtype=torch.long)\n",
        "y = torch.tensor(df[\"label_id\"].values, dtype=torch.long)\n",
        "\n",
        "# 🔀 Разделение\n",
        "X_train, X_test, y_train, y_test = train_test_split(\n",
        "    X, y, test_size=0.2, stratify=y, random_state=42\n",
        ")\n",
        "\n",
        "# 📦 DataLoader'ы\n",
        "train_dataset = TensorDataset(X_train, y_train)\n",
        "test_dataset = TensorDataset(X_test, y_test)\n",
        "\n",
        "train_loader = DataLoader(train_dataset, batch_size=64, shuffle=True)\n",
        "test_loader = DataLoader(test_dataset, batch_size=64)\n",
        "\n",
        "# 🧾 Проверка\n",
        "print(\"🎯 Пример y_train:\", y_train[:10])\n",
        "print(\"🧾 Пример X_train[0]:\", X_train[0])\n"
      ],
      "metadata": {
        "colab": {
          "base_uri": "https://localhost:8080/"
        },
        "id": "lQFQLzm7nt6L",
        "outputId": "e56209be-dc84-4157-8bcd-d11fdfc1f387"
      },
      "execution_count": 38,
      "outputs": [
        {
          "output_type": "stream",
          "name": "stdout",
          "text": [
            "🎯 Пример y_train: tensor([-9223372036854775808, -9223372036854775808, -9223372036854775808,\n",
            "        -9223372036854775808, -9223372036854775808, -9223372036854775808,\n",
            "        -9223372036854775808, -9223372036854775808, -9223372036854775808,\n",
            "        -9223372036854775808])\n",
            "🧾 Пример X_train[0]: tensor([ 717, 1780,    4, 1802,  700,   10, 4565,   12,   45,    0,    0,    0,\n",
            "           0,    0,    0,    0,    0,    0,    0,    0,    0,    0,    0,    0,\n",
            "           0,    0,    0,    0,    0,    0,    0,    0,    0,    0,    0,    0,\n",
            "           0,    0,    0,    0,    0,    0,    0,    0,    0,    0,    0,    0,\n",
            "           0,    0,    0,    0,    0,    0,    0,    0,    0,    0,    0,    0,\n",
            "           0,    0,    0,    0])\n"
          ]
        }
      ]
    },
    {
      "cell_type": "code",
      "source": [
        "# 🔄 Принудительно переводим в строки, убираем пробелы и приводим к нижнему регистру\n",
        "df[\"label\"] = df[\"label\"].astype(str).str.strip().str.lower()\n",
        "\n",
        "# 🔁 Преобразуем в числа\n",
        "df[\"label_id\"] = df[\"label\"].map({\"real\": 1, \"fake\": 0})\n",
        "\n",
        "# ✅ Проверка\n",
        "print(\"🔍 Уникальные значения:\", df[\"label\"].unique())\n",
        "print(\"🔍 Метки после map:\", df[\"label_id\"].unique())\n",
        "print(\"🔍 Пропущенные:\", df[\"label_id\"].isna().sum())\n"
      ],
      "metadata": {
        "colab": {
          "base_uri": "https://localhost:8080/"
        },
        "id": "JnYUf6Uon6xb",
        "outputId": "90ec59f8-f2a2-4e9f-d5cb-0197bda4e6d1"
      },
      "execution_count": 40,
      "outputs": [
        {
          "output_type": "stream",
          "name": "stdout",
          "text": [
            "🔍 Уникальные значения: ['1' '0']\n",
            "🔍 Метки после map: [nan]\n",
            "🔍 Пропущенные: 6420\n"
          ]
        }
      ]
    },
    {
      "cell_type": "code",
      "source": [
        "# 🔁 Преобразуем '1' и '0' (строки) в целые числа\n",
        "df[\"label_id\"] = df[\"label\"].map({\"1\": 1, \"0\": 0})\n",
        "\n",
        "# ✅ Проверка\n",
        "print(\"✅ Метки:\", df[\"label_id\"].unique())\n",
        "print(\"🧼 Пропущенные значения:\", df[\"label_id\"].isna().sum())\n"
      ],
      "metadata": {
        "colab": {
          "base_uri": "https://localhost:8080/"
        },
        "id": "Nezlv7-CoA9d",
        "outputId": "813964e2-a41f-4bd9-d077-7fb03a71cd03"
      },
      "execution_count": 41,
      "outputs": [
        {
          "output_type": "stream",
          "name": "stdout",
          "text": [
            "✅ Метки: [1 0]\n",
            "🧼 Пропущенные значения: 0\n"
          ]
        }
      ]
    },
    {
      "cell_type": "markdown",
      "source": [
        "# Следующий шаг: подготовка входов (X) и целевых меток (y) для PyTorch"
      ],
      "metadata": {
        "id": "HsSKrsHXoHDh"
      }
    },
    {
      "cell_type": "code",
      "source": [
        "import torch\n",
        "from sklearn.model_selection import train_test_split\n",
        "\n",
        "# 🧩 Параметры\n",
        "MAX_LEN = 64  # ограничим длину твита\n",
        "\n",
        "# 🧾 Финальные данные\n",
        "input_ids = df[\"input_ids\"].tolist()\n",
        "labels = df[\"label_id\"].tolist()\n",
        "\n",
        "# 🧪 Делим на train/test\n",
        "X_train, X_test, y_train, y_test = train_test_split(input_ids, labels, test_size=0.2, stratify=labels, random_state=42)\n",
        "\n",
        "# 📦 Паддинг и тензоры\n",
        "def pad_sequences(sequences, max_len):\n",
        "    return torch.tensor([seq[:max_len] + [0] * max(0, max_len - len(seq)) for seq in sequences])\n",
        "\n",
        "X_train = pad_sequences(X_train, MAX_LEN)\n",
        "X_test = pad_sequences(X_test, MAX_LEN)\n",
        "y_train = torch.tensor(y_train, dtype=torch.long)\n",
        "y_test = torch.tensor(y_test, dtype=torch.long)\n",
        "\n",
        "# 🔍 Проверка\n",
        "print(\"📦 X_train:\", X_train.shape)\n",
        "print(\"📦 y_train:\", y_train.shape)\n",
        "print(\"🧾 Пример X_train[0]:\", X_train[0])\n",
        "print(\"🧾 Пример y_train[0]:\", y_train[0])\n"
      ],
      "metadata": {
        "colab": {
          "base_uri": "https://localhost:8080/"
        },
        "id": "49dvPQN-oKWz",
        "outputId": "44e58a3c-58bb-4e0b-c596-68fb11c5f17d"
      },
      "execution_count": 42,
      "outputs": [
        {
          "output_type": "stream",
          "name": "stdout",
          "text": [
            "📦 X_train: torch.Size([5136, 64])\n",
            "📦 y_train: torch.Size([5136])\n",
            "🧾 Пример X_train[0]: tensor([ 32,  90,  76,   9, 151, 175,  51, 363, 110,  27,  69,  84,  16, 111,\n",
            "        335, 762,  45,  72,  47,   7, 821,   1, 725, 275,  14,  22,  44,  89,\n",
            "        238,  27,  14,   7,  58, 259,  10, 177,  97,   0,   0,   0,   0,   0,\n",
            "          0,   0,   0,   0,   0,   0,   0,   0,   0,   0,   0,   0,   0,   0,\n",
            "          0,   0,   0,   0,   0,   0,   0,   0])\n",
            "🧾 Пример y_train[0]: tensor(1)\n"
          ]
        }
      ]
    },
    {
      "cell_type": "code",
      "source": [
        "from torch.utils.data import Dataset, DataLoader\n",
        "\n",
        "# 🔧 Класс Dataset\n",
        "class NewsDataset(Dataset):\n",
        "    def __init__(self, X, y):\n",
        "        self.X = X\n",
        "        self.y = y\n",
        "\n",
        "    def __len__(self):\n",
        "        return len(self.X)\n",
        "\n",
        "    def __getitem__(self, idx):\n",
        "        return self.X[idx], self.y[idx]\n",
        "\n",
        "# 📦 Создание датасетов\n",
        "train_dataset = NewsDataset(X_train, y_train)\n",
        "test_dataset = NewsDataset(X_test, y_test)\n",
        "\n",
        "# 🔁 DataLoader'ы\n",
        "BATCH_SIZE = 64\n",
        "\n",
        "train_loader = DataLoader(train_dataset, batch_size=BATCH_SIZE, shuffle=True)\n",
        "test_loader = DataLoader(test_dataset, batch_size=BATCH_SIZE)\n",
        "\n",
        "# 🔍 Проверка\n",
        "for x_batch, y_batch in train_loader:\n",
        "    print(\"🧾 Пример батча:\")\n",
        "    print(\"X_batch:\", x_batch.shape)\n",
        "    print(\"y_batch:\", y_batch.shape)\n",
        "    break\n"
      ],
      "metadata": {
        "colab": {
          "base_uri": "https://localhost:8080/"
        },
        "id": "HxUbyEJnoRXW",
        "outputId": "ece8e85e-8a88-4a8f-ac58-33cb6a888bc0"
      },
      "execution_count": 43,
      "outputs": [
        {
          "output_type": "stream",
          "name": "stdout",
          "text": [
            "🧾 Пример батча:\n",
            "X_batch: torch.Size([64, 64])\n",
            "y_batch: torch.Size([64])\n"
          ]
        }
      ]
    },
    {
      "cell_type": "code",
      "source": [
        "import torch.nn as nn\n",
        "import torch.nn.functional as F\n",
        "\n",
        "class FakeNewsClassifier(nn.Module):\n",
        "    def __init__(self, vocab_size, embed_dim, num_classes):\n",
        "        super(FakeNewsClassifier, self).__init__()\n",
        "        self.embedding = nn.Embedding(vocab_size, embed_dim, padding_idx=0)\n",
        "        self.fc = nn.Linear(embed_dim, num_classes)\n",
        "\n",
        "    def forward(self, x):\n",
        "        # x: [batch_size, seq_len]\n",
        "        embedded = self.embedding(x)              # [batch_size, seq_len, embed_dim]\n",
        "        pooled = embedded.mean(dim=1)             # [batch_size, embed_dim]\n",
        "        return self.fc(pooled)                    # [batch_size, num_classes]\n",
        "\n",
        "# ⚙️ Параметры\n",
        "VOCAB_SIZE = len(vocab)\n",
        "EMBED_DIM = 100\n",
        "NUM_CLASSES = 2\n",
        "\n",
        "model = FakeNewsClassifier(VOCAB_SIZE, EMBED_DIM, NUM_CLASSES)\n",
        "print(model)\n"
      ],
      "metadata": {
        "colab": {
          "base_uri": "https://localhost:8080/"
        },
        "id": "63TLsg8RoXuu",
        "outputId": "d14608d9-f56f-44b2-a224-16fc10d0ce3f"
      },
      "execution_count": 44,
      "outputs": [
        {
          "output_type": "stream",
          "name": "stdout",
          "text": [
            "FakeNewsClassifier(\n",
            "  (embedding): Embedding(10000, 100, padding_idx=0)\n",
            "  (fc): Linear(in_features=100, out_features=2, bias=True)\n",
            ")\n"
          ]
        }
      ]
    },
    {
      "cell_type": "code",
      "source": [
        "from torch import optim\n",
        "from tqdm import tqdm\n",
        "\n",
        "# 🔧 Оптимизатор и функция потерь\n",
        "criterion = nn.CrossEntropyLoss()\n",
        "optimizer = optim.Adam(model.parameters(), lr=1e-3)\n",
        "\n",
        "# 📊 Для метрик\n",
        "from sklearn.metrics import f1_score\n",
        "\n",
        "# 🔁 Цикл обучения\n",
        "EPOCHS = 20\n",
        "\n",
        "for epoch in range(EPOCHS):\n",
        "    model.train()\n",
        "    total_loss = 0\n",
        "    all_preds = []\n",
        "    all_labels = []\n",
        "\n",
        "    progress_bar = tqdm(train_loader, desc=f\"📚 Epoch {epoch+1}/{EPOCHS}\")\n",
        "\n",
        "    for x_batch, y_batch in progress_bar:\n",
        "        optimizer.zero_grad()\n",
        "        logits = model(x_batch)\n",
        "        loss = criterion(logits, y_batch)\n",
        "        loss.backward()\n",
        "        optimizer.step()\n",
        "\n",
        "        total_loss += loss.item()\n",
        "\n",
        "        preds = torch.argmax(logits, dim=1).cpu().numpy()\n",
        "        all_preds.extend(preds)\n",
        "        all_labels.extend(y_batch.cpu().numpy())\n",
        "\n",
        "        progress_bar.set_postfix({\"Loss\": loss.item()})\n",
        "\n",
        "    # 🔹 F1 по эпохе\n",
        "    f1 = f1_score(all_labels, all_preds)\n",
        "    print(f\"✅ Epoch {epoch+1} | Loss: {total_loss:.4f} | F1: {f1:.4f}\")\n"
      ],
      "metadata": {
        "colab": {
          "base_uri": "https://localhost:8080/"
        },
        "id": "_dQnAejbojqb",
        "outputId": "0a410a19-a649-4f14-80ad-5dba6b09bfad"
      },
      "execution_count": 45,
      "outputs": [
        {
          "output_type": "stream",
          "name": "stderr",
          "text": [
            "📚 Epoch 1/20: 100%|██████████| 81/81 [00:02<00:00, 32.91it/s, Loss=0.648]\n"
          ]
        },
        {
          "output_type": "stream",
          "name": "stdout",
          "text": [
            "✅ Epoch 1 | Loss: 53.5061 | F1: 0.7019\n"
          ]
        },
        {
          "output_type": "stream",
          "name": "stderr",
          "text": [
            "📚 Epoch 2/20: 100%|██████████| 81/81 [00:02<00:00, 36.68it/s, Loss=0.55]\n"
          ]
        },
        {
          "output_type": "stream",
          "name": "stdout",
          "text": [
            "✅ Epoch 2 | Loss: 46.9814 | F1: 0.7877\n"
          ]
        },
        {
          "output_type": "stream",
          "name": "stderr",
          "text": [
            "📚 Epoch 3/20: 100%|██████████| 81/81 [00:01<00:00, 57.97it/s, Loss=0.436]\n"
          ]
        },
        {
          "output_type": "stream",
          "name": "stdout",
          "text": [
            "✅ Epoch 3 | Loss: 39.1701 | F1: 0.8472\n"
          ]
        },
        {
          "output_type": "stream",
          "name": "stderr",
          "text": [
            "📚 Epoch 4/20: 100%|██████████| 81/81 [00:01<00:00, 61.17it/s, Loss=0.306]\n"
          ]
        },
        {
          "output_type": "stream",
          "name": "stdout",
          "text": [
            "✅ Epoch 4 | Loss: 32.1071 | F1: 0.8839\n"
          ]
        },
        {
          "output_type": "stream",
          "name": "stderr",
          "text": [
            "📚 Epoch 5/20: 100%|██████████| 81/81 [00:02<00:00, 28.22it/s, Loss=0.431]\n"
          ]
        },
        {
          "output_type": "stream",
          "name": "stdout",
          "text": [
            "✅ Epoch 5 | Loss: 26.9762 | F1: 0.8986\n"
          ]
        },
        {
          "output_type": "stream",
          "name": "stderr",
          "text": [
            "📚 Epoch 6/20: 100%|██████████| 81/81 [00:03<00:00, 21.00it/s, Loss=0.188]\n"
          ]
        },
        {
          "output_type": "stream",
          "name": "stdout",
          "text": [
            "✅ Epoch 6 | Loss: 22.9978 | F1: 0.9103\n"
          ]
        },
        {
          "output_type": "stream",
          "name": "stderr",
          "text": [
            "📚 Epoch 7/20: 100%|██████████| 81/81 [00:02<00:00, 32.48it/s, Loss=0.239]\n"
          ]
        },
        {
          "output_type": "stream",
          "name": "stdout",
          "text": [
            "✅ Epoch 7 | Loss: 20.1404 | F1: 0.9219\n"
          ]
        },
        {
          "output_type": "stream",
          "name": "stderr",
          "text": [
            "📚 Epoch 8/20: 100%|██████████| 81/81 [00:02<00:00, 33.53it/s, Loss=0.179]\n"
          ]
        },
        {
          "output_type": "stream",
          "name": "stdout",
          "text": [
            "✅ Epoch 8 | Loss: 17.7929 | F1: 0.9296\n"
          ]
        },
        {
          "output_type": "stream",
          "name": "stderr",
          "text": [
            "📚 Epoch 9/20: 100%|██████████| 81/81 [00:01<00:00, 58.26it/s, Loss=0.146]\n"
          ]
        },
        {
          "output_type": "stream",
          "name": "stdout",
          "text": [
            "✅ Epoch 9 | Loss: 15.8649 | F1: 0.9387\n"
          ]
        },
        {
          "output_type": "stream",
          "name": "stderr",
          "text": [
            "📚 Epoch 10/20: 100%|██████████| 81/81 [00:01<00:00, 57.85it/s, Loss=0.167]\n"
          ]
        },
        {
          "output_type": "stream",
          "name": "stdout",
          "text": [
            "✅ Epoch 10 | Loss: 14.2811 | F1: 0.9457\n"
          ]
        },
        {
          "output_type": "stream",
          "name": "stderr",
          "text": [
            "📚 Epoch 11/20: 100%|██████████| 81/81 [00:01<00:00, 59.61it/s, Loss=0.122]\n"
          ]
        },
        {
          "output_type": "stream",
          "name": "stdout",
          "text": [
            "✅ Epoch 11 | Loss: 12.8711 | F1: 0.9528\n"
          ]
        },
        {
          "output_type": "stream",
          "name": "stderr",
          "text": [
            "📚 Epoch 12/20: 100%|██████████| 81/81 [00:01<00:00, 51.26it/s, Loss=0.0698]\n"
          ]
        },
        {
          "output_type": "stream",
          "name": "stdout",
          "text": [
            "✅ Epoch 12 | Loss: 11.6401 | F1: 0.9581\n"
          ]
        },
        {
          "output_type": "stream",
          "name": "stderr",
          "text": [
            "📚 Epoch 13/20: 100%|██████████| 81/81 [00:01<00:00, 52.00it/s, Loss=0.175]\n"
          ]
        },
        {
          "output_type": "stream",
          "name": "stdout",
          "text": [
            "✅ Epoch 13 | Loss: 10.6713 | F1: 0.9633\n"
          ]
        },
        {
          "output_type": "stream",
          "name": "stderr",
          "text": [
            "📚 Epoch 14/20: 100%|██████████| 81/81 [00:01<00:00, 44.46it/s, Loss=0.0665]\n"
          ]
        },
        {
          "output_type": "stream",
          "name": "stdout",
          "text": [
            "✅ Epoch 14 | Loss: 9.6629 | F1: 0.9681\n"
          ]
        },
        {
          "output_type": "stream",
          "name": "stderr",
          "text": [
            "📚 Epoch 15/20: 100%|██████████| 81/81 [00:01<00:00, 60.48it/s, Loss=0.031]\n"
          ]
        },
        {
          "output_type": "stream",
          "name": "stdout",
          "text": [
            "✅ Epoch 15 | Loss: 8.8202 | F1: 0.9707\n"
          ]
        },
        {
          "output_type": "stream",
          "name": "stderr",
          "text": [
            "📚 Epoch 16/20: 100%|██████████| 81/81 [00:01<00:00, 58.42it/s, Loss=0.14]\n"
          ]
        },
        {
          "output_type": "stream",
          "name": "stdout",
          "text": [
            "✅ Epoch 16 | Loss: 8.1618 | F1: 0.9736\n"
          ]
        },
        {
          "output_type": "stream",
          "name": "stderr",
          "text": [
            "📚 Epoch 17/20: 100%|██████████| 81/81 [00:01<00:00, 60.56it/s, Loss=0.056]\n"
          ]
        },
        {
          "output_type": "stream",
          "name": "stdout",
          "text": [
            "✅ Epoch 17 | Loss: 7.4340 | F1: 0.9755\n"
          ]
        },
        {
          "output_type": "stream",
          "name": "stderr",
          "text": [
            "📚 Epoch 18/20: 100%|██████████| 81/81 [00:01<00:00, 60.27it/s, Loss=0.0456]\n"
          ]
        },
        {
          "output_type": "stream",
          "name": "stdout",
          "text": [
            "✅ Epoch 18 | Loss: 6.8345 | F1: 0.9786\n"
          ]
        },
        {
          "output_type": "stream",
          "name": "stderr",
          "text": [
            "📚 Epoch 19/20: 100%|██████████| 81/81 [00:01<00:00, 63.67it/s, Loss=0.0679]\n"
          ]
        },
        {
          "output_type": "stream",
          "name": "stdout",
          "text": [
            "✅ Epoch 19 | Loss: 6.3094 | F1: 0.9803\n"
          ]
        },
        {
          "output_type": "stream",
          "name": "stderr",
          "text": [
            "📚 Epoch 20/20: 100%|██████████| 81/81 [00:01<00:00, 58.21it/s, Loss=0.0376]"
          ]
        },
        {
          "output_type": "stream",
          "name": "stdout",
          "text": [
            "✅ Epoch 20 | Loss: 5.7997 | F1: 0.9828\n"
          ]
        },
        {
          "output_type": "stream",
          "name": "stderr",
          "text": [
            "\n"
          ]
        }
      ]
    },
    {
      "cell_type": "markdown",
      "source": [
        "| 🧠 Модель                   | Accuracy | F1-score   |\n",
        "| --------------------------- | -------- | ---------- |\n",
        "| TF-IDF + LogisticRegression | 0.9097   | 0.9132     |\n",
        "| TF-IDF + SVD                | 0.8723   | 0.8761     |\n",
        "| Char n-grams                | 0.9011   | 0.9043     |\n",
        "| **Нейросеть (PyTorch)**     | **–**    | **0.9828** |\n"
      ],
      "metadata": {
        "id": "rnoykTjio2D7"
      }
    },
    {
      "cell_type": "code",
      "source": [
        "from sklearn.metrics import classification_report, accuracy_score, f1_score, confusion_matrix\n",
        "import seaborn as sns\n",
        "import matplotlib.pyplot as plt\n",
        "\n",
        "# 🔍 Переводим модель в режим оценки\n",
        "model.eval()\n",
        "\n",
        "# 📊 Получение предсказаний\n",
        "all_preds = []\n",
        "with torch.no_grad():\n",
        "    for x_batch, _ in test_loader:\n",
        "        logits = model(x_batch)\n",
        "        preds = torch.argmax(logits, dim=1)\n",
        "        all_preds.extend(preds.cpu().numpy())\n",
        "\n",
        "# 🎯 Метки истинные\n",
        "y_true = y_test.tolist()\n",
        "\n",
        "# 📈 Метрики\n",
        "acc = accuracy_score(y_true, all_preds)\n",
        "f1 = f1_score(y_true, all_preds)\n",
        "print(f\"✅ Accuracy: {acc:.4f}\")\n",
        "print(f\"✅ F1-score: {f1:.4f}\\n\")\n",
        "print(\"📋 Classification Report:\\n\", classification_report(y_true, all_preds, target_names=[\"fake\", \"real\"]))\n",
        "\n",
        "# 📊 Матрица ошибок\n",
        "cm = confusion_matrix(y_true, all_preds)\n",
        "plt.figure(figsize=(6, 4))\n",
        "sns.heatmap(cm, annot=True, fmt=\"d\", cmap=\"Blues\", xticklabels=[\"fake\", \"real\"], yticklabels=[\"fake\", \"real\"])\n",
        "plt.xlabel(\"Predicted\")\n",
        "plt.ylabel(\"Actual\")\n",
        "plt.title(\"Confusion Matrix\")\n",
        "plt.show()\n"
      ],
      "metadata": {
        "colab": {
          "base_uri": "https://localhost:8080/",
          "height": 642
        },
        "id": "GJ3QZCYAo9q_",
        "outputId": "cdce5bb2-1104-4b7c-9fac-ed77019c44e7"
      },
      "execution_count": 46,
      "outputs": [
        {
          "output_type": "stream",
          "name": "stdout",
          "text": [
            "✅ Accuracy: 0.9221\n",
            "✅ F1-score: 0.9239\n",
            "\n",
            "📋 Classification Report:\n",
            "               precision    recall  f1-score   support\n",
            "\n",
            "        fake       0.90      0.94      0.92       612\n",
            "        real       0.95      0.90      0.92       672\n",
            "\n",
            "    accuracy                           0.92      1284\n",
            "   macro avg       0.92      0.92      0.92      1284\n",
            "weighted avg       0.92      0.92      0.92      1284\n",
            "\n"
          ]
        },
        {
          "output_type": "display_data",
          "data": {
            "text/plain": [
              "<Figure size 600x400 with 2 Axes>"
            ],
            "image/png": "[encoded data removed]"
          },
          "metadata": {}
        }
      ]
    },
    {
      "cell_type": "markdown",
      "source": [
        "| Модель                      | Accuracy   | F1-score   |\n",
        "| --------------------------- | ---------- | ---------- |\n",
        "| TF-IDF (1–2-граммы)         | 0.9097     | 0.9132     |\n",
        "| TF-IDF + TruncatedSVD (LSA) | 0.8723     | 0.8761     |\n",
        "| TF-IDF (char n-grams)       | 0.9011     | 0.9043     |\n",
        "| ⚡ Нейросеть (PyTorch)       | **0.9221** | **0.9239** |\n"
      ],
      "metadata": {
        "id": "ZGZuNUBFpLlV"
      }
    },
    {
      "cell_type": "markdown",
      "source": [
        "#Финальные выводы:\n",
        "\n",
        "Базовая TF-IDF-модель с униграммами и биграммами уже даёт высокую точность (F1 > 0.91) и служит хорошей отправной точкой.\n",
        "\n",
        "TF-IDF + SVD (LSA) снижает размерность, но это сказывается на качестве — метрики заметно ниже. Подходит, если критично ограничение по памяти.\n",
        "\n",
        "Символьные n-граммы (char n-grams) также работают неплохо и могут быть полезны, если в текстах есть опечатки, особенности написания или сленг.\n",
        "\n",
        "Нейросеть на PyTorch показала наилучший результат (F1 ≈ 0.92), особенно после обучения на 20 эпохах. Это превзошло целевой порог >0.52 с большим запасом."
      ],
      "metadata": {
        "id": "hL4lKOg6pP23"
      }
    }
  ]
}